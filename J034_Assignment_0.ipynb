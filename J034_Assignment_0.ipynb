{
 "cells": [
  {
   "cell_type": "code",
   "execution_count": 1,
   "metadata": {},
   "outputs": [],
   "source": [
    "import pandas as pd\n",
    "import numpy as np\n",
    "import matplotlib.pyplot as plt"
   ]
  },
  {
   "cell_type": "code",
   "execution_count": 2,
   "metadata": {},
   "outputs": [],
   "source": [
    "df = pd.read_csv('spam.csv', encoding='latin-1')\n",
    "df = df.drop(['Unnamed: 2', 'Unnamed: 3', 'Unnamed: 4'], axis=1)\n",
    "df.columns = ['label', 'message']"
   ]
  },
  {
   "cell_type": "code",
   "execution_count": 3,
   "metadata": {},
   "outputs": [],
   "source": [
    "df['label'] = df['label'].map({'ham': 0, 'spam': 1})"
   ]
  },
  {
   "cell_type": "code",
   "execution_count": 4,
   "metadata": {},
   "outputs": [],
   "source": [
    "df_uncleaned = df.copy()"
   ]
  },
  {
   "cell_type": "code",
   "execution_count": 5,
   "metadata": {},
   "outputs": [],
   "source": [
    "# Text Preprocessing 1\n",
    "df['message'] = df['message'].str.lower()"
   ]
  },
  {
   "cell_type": "code",
   "execution_count": 6,
   "metadata": {},
   "outputs": [
    {
     "data": {
      "text/html": [
       "<div>\n",
       "<style scoped>\n",
       "    .dataframe tbody tr th:only-of-type {\n",
       "        vertical-align: middle;\n",
       "    }\n",
       "\n",
       "    .dataframe tbody tr th {\n",
       "        vertical-align: top;\n",
       "    }\n",
       "\n",
       "    .dataframe thead th {\n",
       "        text-align: right;\n",
       "    }\n",
       "</style>\n",
       "<table border=\"1\" class=\"dataframe\">\n",
       "  <thead>\n",
       "    <tr style=\"text-align: right;\">\n",
       "      <th></th>\n",
       "      <th>label</th>\n",
       "      <th>message</th>\n",
       "    </tr>\n",
       "  </thead>\n",
       "  <tbody>\n",
       "    <tr>\n",
       "      <th>0</th>\n",
       "      <td>0</td>\n",
       "      <td>go until jurong point crazy available only in ...</td>\n",
       "    </tr>\n",
       "    <tr>\n",
       "      <th>1</th>\n",
       "      <td>0</td>\n",
       "      <td>ok lar joking wif u oni</td>\n",
       "    </tr>\n",
       "    <tr>\n",
       "      <th>2</th>\n",
       "      <td>1</td>\n",
       "      <td>free entry in 2 a wkly comp to win fa cup fina...</td>\n",
       "    </tr>\n",
       "    <tr>\n",
       "      <th>3</th>\n",
       "      <td>0</td>\n",
       "      <td>u dun say so early hor u c already then say</td>\n",
       "    </tr>\n",
       "    <tr>\n",
       "      <th>4</th>\n",
       "      <td>0</td>\n",
       "      <td>nah i dont think he goes to usf he lives aroun...</td>\n",
       "    </tr>\n",
       "  </tbody>\n",
       "</table>\n",
       "</div>"
      ],
      "text/plain": [
       "   label                                            message\n",
       "0      0  go until jurong point crazy available only in ...\n",
       "1      0                            ok lar joking wif u oni\n",
       "2      1  free entry in 2 a wkly comp to win fa cup fina...\n",
       "3      0        u dun say so early hor u c already then say\n",
       "4      0  nah i dont think he goes to usf he lives aroun..."
      ]
     },
     "execution_count": 6,
     "metadata": {},
     "output_type": "execute_result"
    }
   ],
   "source": [
    "# Text Preprocessing 2\n",
    "import string\n",
    "\n",
    "PUNCT_TO_REMOVE = string.punctuation\n",
    "def remove_punctuation(text):\n",
    "    \"\"\"custom function to remove the punctuation\"\"\"\n",
    "    return text.translate(str.maketrans('', '', PUNCT_TO_REMOVE))\n",
    "\n",
    "df[\"message\"] = df[\"message\"].apply(lambda text: remove_punctuation(text))\n",
    "df.head()"
   ]
  },
  {
   "cell_type": "code",
   "execution_count": 7,
   "metadata": {},
   "outputs": [
    {
     "data": {
      "text/html": [
       "<div>\n",
       "<style scoped>\n",
       "    .dataframe tbody tr th:only-of-type {\n",
       "        vertical-align: middle;\n",
       "    }\n",
       "\n",
       "    .dataframe tbody tr th {\n",
       "        vertical-align: top;\n",
       "    }\n",
       "\n",
       "    .dataframe thead th {\n",
       "        text-align: right;\n",
       "    }\n",
       "</style>\n",
       "<table border=\"1\" class=\"dataframe\">\n",
       "  <thead>\n",
       "    <tr style=\"text-align: right;\">\n",
       "      <th></th>\n",
       "      <th>label</th>\n",
       "      <th>message</th>\n",
       "    </tr>\n",
       "  </thead>\n",
       "  <tbody>\n",
       "    <tr>\n",
       "      <th>0</th>\n",
       "      <td>0</td>\n",
       "      <td>go jurong point crazy available bugis n great ...</td>\n",
       "    </tr>\n",
       "    <tr>\n",
       "      <th>1</th>\n",
       "      <td>0</td>\n",
       "      <td>ok lar joking wif u oni</td>\n",
       "    </tr>\n",
       "    <tr>\n",
       "      <th>2</th>\n",
       "      <td>1</td>\n",
       "      <td>free entry 2 wkly comp win fa cup final tkts 2...</td>\n",
       "    </tr>\n",
       "    <tr>\n",
       "      <th>3</th>\n",
       "      <td>0</td>\n",
       "      <td>u dun say early hor u c already say</td>\n",
       "    </tr>\n",
       "    <tr>\n",
       "      <th>4</th>\n",
       "      <td>0</td>\n",
       "      <td>nah dont think goes usf lives around though</td>\n",
       "    </tr>\n",
       "  </tbody>\n",
       "</table>\n",
       "</div>"
      ],
      "text/plain": [
       "   label                                            message\n",
       "0      0  go jurong point crazy available bugis n great ...\n",
       "1      0                            ok lar joking wif u oni\n",
       "2      1  free entry 2 wkly comp win fa cup final tkts 2...\n",
       "3      0                u dun say early hor u c already say\n",
       "4      0        nah dont think goes usf lives around though"
      ]
     },
     "execution_count": 7,
     "metadata": {},
     "output_type": "execute_result"
    }
   ],
   "source": [
    "# Text Preprocessing 3\n",
    "from nltk.corpus import stopwords\n",
    "STOPWORDS = set(stopwords.words('english'))\n",
    "def remove_stopwords(text):\n",
    "    \"\"\"custom function to remove the stopwords\"\"\"\n",
    "    return \" \".join([word for word in str(text).split() if word not in STOPWORDS])\n",
    "\n",
    "df[\"message\"] = df[\"message\"].apply(lambda text: remove_stopwords(text))\n",
    "df.head()"
   ]
  },
  {
   "cell_type": "code",
   "execution_count": 8,
   "metadata": {},
   "outputs": [],
   "source": [
    "# Using Bag of Words vectorizer\n",
    "from sklearn.feature_extraction.text import CountVectorizer\n",
    "from sklearn.model_selection import train_test_split\n",
    "\n",
    "X_train, X_test, y_train, y_test = train_test_split(df['message'], df['label'], test_size=0.2, random_state=42)\n",
    "\n",
    "count_vectorizer = CountVectorizer()\n",
    "count_vectorizer.fit(X_train)\n",
    "X_train = count_vectorizer.transform(X_train)\n",
    "X_test = count_vectorizer.transform(X_test)"
   ]
  },
  {
   "cell_type": "code",
   "execution_count": 9,
   "metadata": {},
   "outputs": [
    {
     "name": "stdout",
     "output_type": "stream",
     "text": [
      "For Bag of Words (CountVectorizer) on cleaned data:\n",
      "                 Estimator  Accuracy  Precision    Recall        F1\n",
      "0  Multinomial Naive Bayes  0.980269   0.970588  0.880000  0.923077\n",
      "1            Random Forest  0.973991   1.000000  0.806667  0.892989\n",
      "2                  XGBoost  0.970404   0.953488  0.820000  0.881720\n"
     ]
    }
   ],
   "source": [
    "# Training on cleaned data\n",
    "from sklearn.naive_bayes import MultinomialNB\n",
    "from sklearn.ensemble import RandomForestClassifier\n",
    "from xgboost import XGBClassifier\n",
    "from sklearn.metrics import accuracy_score, precision_score, recall_score, f1_score\n",
    "\n",
    "estimators = ['Multinomial Naive Bayes', 'Random Forest', 'XGBoost']\n",
    "accuracies = []\n",
    "precisions = []\n",
    "recalls = []\n",
    "f1s = []\n",
    "\n",
    "# Multinomial Naive Bayes\n",
    "bayes = MultinomialNB()\n",
    "\n",
    "bayes.fit(X_train, y_train)\n",
    "y_pred = bayes.predict(X_test)\n",
    "\n",
    "accuracies.append(accuracy_score(y_test, y_pred))\n",
    "precisions.append(precision_score(y_test, y_pred))\n",
    "recalls.append(recall_score(y_test, y_pred))\n",
    "f1s.append(f1_score(y_test, y_pred))\n",
    "\n",
    "# Random Forest\n",
    "forest = RandomForestClassifier()\n",
    "\n",
    "forest.fit(X_train, y_train)\n",
    "y_pred = forest.predict(X_test)\n",
    "\n",
    "accuracies.append(accuracy_score(y_test, y_pred))\n",
    "precisions.append(precision_score(y_test, y_pred))\n",
    "recalls.append(recall_score(y_test, y_pred))\n",
    "f1s.append(f1_score(y_test, y_pred))\n",
    "\n",
    "# XGBoost\n",
    "xgboost = XGBClassifier()\n",
    "\n",
    "xgboost.fit(X_train, y_train)\n",
    "y_pred = xgboost.predict(X_test)\n",
    "\n",
    "accuracies.append(accuracy_score(y_test, y_pred))\n",
    "precisions.append(precision_score(y_test, y_pred))\n",
    "recalls.append(recall_score(y_test, y_pred))\n",
    "f1s.append(f1_score(y_test, y_pred))\n",
    "\n",
    "print('For Bag of Words (CountVectorizer) on cleaned data:')\n",
    "report = pd.DataFrame({'Estimator': estimators, 'Accuracy': accuracies, 'Precision': precisions, 'Recall': recalls, 'F1': f1s})\n",
    "print(report)"
   ]
  },
  {
   "cell_type": "code",
   "execution_count": 10,
   "metadata": {},
   "outputs": [],
   "source": [
    "# Using Bag of Words vectorizer (uncleaned)\n",
    "from sklearn.feature_extraction.text import CountVectorizer\n",
    "from sklearn.model_selection import train_test_split\n",
    "\n",
    "X_train, X_test, y_train, y_test = train_test_split(df_uncleaned['message'], df_uncleaned['label'], test_size=0.2, random_state=42)\n",
    "\n",
    "count_vectorizer = CountVectorizer()\n",
    "count_vectorizer.fit(X_train)\n",
    "X_train = count_vectorizer.transform(X_train)\n",
    "X_test = count_vectorizer.transform(X_test)"
   ]
  },
  {
   "cell_type": "code",
   "execution_count": 11,
   "metadata": {},
   "outputs": [
    {
     "name": "stdout",
     "output_type": "stream",
     "text": [
      "For Bag of Words (CountVectorizer) on uncleaned data:\n",
      "                 Estimator  Accuracy  Precision    Recall        F1\n",
      "0  Multinomial Naive Bayes  0.983857   0.985294  0.893333  0.937063\n",
      "1            Random Forest  0.977578   1.000000  0.833333  0.909091\n",
      "2                  XGBoost  0.977578   0.962963  0.866667  0.912281\n"
     ]
    }
   ],
   "source": [
    "# Training on cleaned data\n",
    "from sklearn.naive_bayes import MultinomialNB\n",
    "from sklearn.ensemble import RandomForestClassifier\n",
    "from xgboost import XGBClassifier\n",
    "from sklearn.metrics import accuracy_score, precision_score, recall_score, f1_score\n",
    "\n",
    "estimators = ['Multinomial Naive Bayes', 'Random Forest', 'XGBoost']\n",
    "accuracies = []\n",
    "precisions = []\n",
    "recalls = []\n",
    "f1s = []\n",
    "\n",
    "# Multinomial Naive Bayes\n",
    "bayes = MultinomialNB()\n",
    "\n",
    "bayes.fit(X_train, y_train)\n",
    "y_pred = bayes.predict(X_test)\n",
    "\n",
    "accuracies.append(accuracy_score(y_test, y_pred))\n",
    "precisions.append(precision_score(y_test, y_pred))\n",
    "recalls.append(recall_score(y_test, y_pred))\n",
    "f1s.append(f1_score(y_test, y_pred))\n",
    "\n",
    "# Random Forest\n",
    "forest = RandomForestClassifier()\n",
    "\n",
    "forest.fit(X_train, y_train)\n",
    "y_pred = forest.predict(X_test)\n",
    "\n",
    "accuracies.append(accuracy_score(y_test, y_pred))\n",
    "precisions.append(precision_score(y_test, y_pred))\n",
    "recalls.append(recall_score(y_test, y_pred))\n",
    "f1s.append(f1_score(y_test, y_pred))\n",
    "\n",
    "# XGBoost\n",
    "xgboost = XGBClassifier()\n",
    "\n",
    "xgboost.fit(X_train, y_train)\n",
    "y_pred = xgboost.predict(X_test)\n",
    "\n",
    "accuracies.append(accuracy_score(y_test, y_pred))\n",
    "precisions.append(precision_score(y_test, y_pred))\n",
    "recalls.append(recall_score(y_test, y_pred))\n",
    "f1s.append(f1_score(y_test, y_pred))\n",
    "\n",
    "print('For Bag of Words (CountVectorizer) on uncleaned data:')\n",
    "report = pd.DataFrame({'Estimator': estimators, 'Accuracy': accuracies, 'Precision': precisions, 'Recall': recalls, 'F1': f1s})\n",
    "print(report)"
   ]
  },
  {
   "cell_type": "code",
   "execution_count": 12,
   "metadata": {},
   "outputs": [],
   "source": [
    "# Using TF-IDF vectorizer\n",
    "from sklearn.feature_extraction.text import TfidfVectorizer\n",
    "\n",
    "X_train, X_test, y_train, y_test = train_test_split(df['message'], df['label'], test_size=0.2, random_state=42)\n",
    "\n",
    "count_vectorizer = TfidfVectorizer()\n",
    "count_vectorizer.fit(X_train)\n",
    "X_train = count_vectorizer.transform(X_train)\n",
    "X_test = count_vectorizer.transform(X_test)"
   ]
  },
  {
   "cell_type": "code",
   "execution_count": 13,
   "metadata": {},
   "outputs": [
    {
     "name": "stdout",
     "output_type": "stream",
     "text": [
      "For TF-IDF Vectorizer on cleaned data:\n",
      "                 Estimator  Accuracy  Precision    Recall        F1\n",
      "0  Multinomial Naive Bayes  0.967713      1.000  0.760000  0.863636\n",
      "1            Random Forest  0.972197      1.000  0.793333  0.884758\n",
      "2                  XGBoost  0.963229      0.936  0.780000  0.850909\n"
     ]
    }
   ],
   "source": [
    "# Training on cleaned data\n",
    "from sklearn.naive_bayes import MultinomialNB\n",
    "from sklearn.ensemble import RandomForestClassifier\n",
    "from xgboost import XGBClassifier\n",
    "from sklearn.metrics import accuracy_score, precision_score, recall_score, f1_score\n",
    "\n",
    "estimators = ['Multinomial Naive Bayes', 'Random Forest', 'XGBoost']\n",
    "accuracies = []\n",
    "precisions = []\n",
    "recalls = []\n",
    "f1s = []\n",
    "\n",
    "# Multinomial Naive Bayes\n",
    "bayes = MultinomialNB()\n",
    "\n",
    "bayes.fit(X_train, y_train)\n",
    "y_pred = bayes.predict(X_test)\n",
    "\n",
    "accuracies.append(accuracy_score(y_test, y_pred))\n",
    "precisions.append(precision_score(y_test, y_pred))\n",
    "recalls.append(recall_score(y_test, y_pred))\n",
    "f1s.append(f1_score(y_test, y_pred))\n",
    "\n",
    "# Random Forest\n",
    "forest = RandomForestClassifier()\n",
    "\n",
    "forest.fit(X_train, y_train)\n",
    "y_pred = forest.predict(X_test)\n",
    "\n",
    "accuracies.append(accuracy_score(y_test, y_pred))\n",
    "precisions.append(precision_score(y_test, y_pred))\n",
    "recalls.append(recall_score(y_test, y_pred))\n",
    "f1s.append(f1_score(y_test, y_pred))\n",
    "\n",
    "# XGBoost\n",
    "xgboost = XGBClassifier()\n",
    "\n",
    "xgboost.fit(X_train, y_train)\n",
    "y_pred = xgboost.predict(X_test)\n",
    "\n",
    "accuracies.append(accuracy_score(y_test, y_pred))\n",
    "precisions.append(precision_score(y_test, y_pred))\n",
    "recalls.append(recall_score(y_test, y_pred))\n",
    "f1s.append(f1_score(y_test, y_pred))\n",
    "\n",
    "print('For TF-IDF Vectorizer on cleaned data:')\n",
    "report = pd.DataFrame({'Estimator': estimators, 'Accuracy': accuracies, 'Precision': precisions, 'Recall': recalls, 'F1': f1s})\n",
    "print(report)"
   ]
  },
  {
   "cell_type": "code",
   "execution_count": 14,
   "metadata": {},
   "outputs": [],
   "source": [
    "# Using TF-IDF vectorizer (uncleaned)\n",
    "from sklearn.feature_extraction.text import TfidfVectorizer\n",
    "\n",
    "X_train, X_test, y_train, y_test = train_test_split(df_uncleaned['message'], df_uncleaned['label'], test_size=0.2, random_state=42)\n",
    "\n",
    "count_vectorizer = TfidfVectorizer()\n",
    "count_vectorizer.fit(X_train)\n",
    "X_train = count_vectorizer.transform(X_train)\n",
    "X_test = count_vectorizer.transform(X_test)"
   ]
  },
  {
   "cell_type": "code",
   "execution_count": 15,
   "metadata": {},
   "outputs": [
    {
     "name": "stdout",
     "output_type": "stream",
     "text": [
      "For TF-IDF Vectorizer on uncleaned data:\n",
      "                 Estimator  Accuracy  Precision    Recall        F1\n",
      "0  Multinomial Naive Bayes  0.962332   1.000000  0.720000  0.837209\n",
      "1            Random Forest  0.974888   1.000000  0.813333  0.897059\n",
      "2                  XGBoost  0.976682   0.984375  0.840000  0.906475\n"
     ]
    }
   ],
   "source": [
    "# Training on cleaned data\n",
    "from sklearn.naive_bayes import MultinomialNB\n",
    "from sklearn.ensemble import RandomForestClassifier\n",
    "from xgboost import XGBClassifier\n",
    "from sklearn.metrics import accuracy_score, precision_score, recall_score, f1_score\n",
    "\n",
    "estimators = ['Multinomial Naive Bayes', 'Random Forest', 'XGBoost']\n",
    "accuracies = []\n",
    "precisions = []\n",
    "recalls = []\n",
    "f1s = []\n",
    "\n",
    "# Multinomial Naive Bayes\n",
    "bayes = MultinomialNB()\n",
    "\n",
    "bayes.fit(X_train, y_train)\n",
    "y_pred = bayes.predict(X_test)\n",
    "\n",
    "accuracies.append(accuracy_score(y_test, y_pred))\n",
    "precisions.append(precision_score(y_test, y_pred))\n",
    "recalls.append(recall_score(y_test, y_pred))\n",
    "f1s.append(f1_score(y_test, y_pred))\n",
    "\n",
    "# Random Forest\n",
    "forest = RandomForestClassifier()\n",
    "\n",
    "forest.fit(X_train, y_train)\n",
    "y_pred = forest.predict(X_test)\n",
    "\n",
    "accuracies.append(accuracy_score(y_test, y_pred))\n",
    "precisions.append(precision_score(y_test, y_pred))\n",
    "recalls.append(recall_score(y_test, y_pred))\n",
    "f1s.append(f1_score(y_test, y_pred))\n",
    "\n",
    "# XGBoost\n",
    "xgboost = XGBClassifier()\n",
    "\n",
    "xgboost.fit(X_train, y_train)\n",
    "y_pred = xgboost.predict(X_test)\n",
    "\n",
    "accuracies.append(accuracy_score(y_test, y_pred))\n",
    "precisions.append(precision_score(y_test, y_pred))\n",
    "recalls.append(recall_score(y_test, y_pred))\n",
    "f1s.append(f1_score(y_test, y_pred))\n",
    "\n",
    "print('For TF-IDF Vectorizer on uncleaned data:')\n",
    "report = pd.DataFrame({'Estimator': estimators, 'Accuracy': accuracies, 'Precision': precisions, 'Recall': recalls, 'F1': f1s})\n",
    "print(report)"
   ]
  },
  {
   "cell_type": "markdown",
   "metadata": {},
   "source": [
    "- Best performance by Multinomial Naive Bayes on Bag of Words vectorized uncleaned data. :o\n",
    "- Let's use soft voting with Multinomial Naive Bayes, Random Forest and XGBoost."
   ]
  },
  {
   "cell_type": "code",
   "execution_count": 18,
   "metadata": {},
   "outputs": [],
   "source": [
    "# Using Bag of Words vectorizer (uncleaned)\n",
    "from sklearn.feature_extraction.text import CountVectorizer\n",
    "from sklearn.model_selection import train_test_split\n",
    "\n",
    "X_train, X_test, y_train, y_test = train_test_split(df_uncleaned['message'], df_uncleaned['label'], test_size=0.2, random_state=42)\n",
    "\n",
    "count_vectorizer = CountVectorizer()\n",
    "count_vectorizer.fit(X_train)\n",
    "X_train = count_vectorizer.transform(X_train)\n",
    "X_test = count_vectorizer.transform(X_test)"
   ]
  },
  {
   "cell_type": "code",
   "execution_count": 19,
   "metadata": {},
   "outputs": [
    {
     "name": "stdout",
     "output_type": "stream",
     "text": [
      "Ensemble of Multinomial Naive Bayes, Random Forest, and XGBoost:\n",
      "Accuracy: 0.9838565022421525\n",
      "Precision: 1.0\n",
      "Recall: 0.88\n",
      "F1: 0.9361702127659575\n"
     ]
    }
   ],
   "source": [
    "from sklearn.ensemble import VotingClassifier\n",
    "\n",
    "estimators = [('bayes', MultinomialNB()), ('forest', RandomForestClassifier()), ('xgboost', XGBClassifier())]\n",
    "ensemble = VotingClassifier(estimators, voting='soft')\n",
    "\n",
    "ensemble.fit(X_train, y_train)\n",
    "y_pred = ensemble.predict(X_test)\n",
    "\n",
    "print('Ensemble of Multinomial Naive Bayes, Random Forest, and XGBoost:')\n",
    "print('Accuracy:', accuracy_score(y_test, y_pred))\n",
    "print('Precision:', precision_score(y_test, y_pred))\n",
    "print('Recall:', recall_score(y_test, y_pred))\n",
    "print('F1:', f1_score(y_test, y_pred))"
   ]
  }
 ],
 "metadata": {
  "kernelspec": {
   "display_name": "Python 3",
   "language": "python",
   "name": "python3"
  },
  "language_info": {
   "codemirror_mode": {
    "name": "ipython",
    "version": 3
   },
   "file_extension": ".py",
   "mimetype": "text/x-python",
   "name": "python",
   "nbconvert_exporter": "python",
   "pygments_lexer": "ipython3",
   "version": "3.12.1"
  }
 },
 "nbformat": 4,
 "nbformat_minor": 2
}
