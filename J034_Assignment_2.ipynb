{
 "cells": [
  {
   "cell_type": "markdown",
   "id": "6f88829d",
   "metadata": {},
   "source": [
    "# Part 1\n",
    "\n",
    "Build a movie review sentiment classifier using GloVe  and RNNs\n",
    "\n",
    "Tasks:\n",
    "1. Train a model using GloVE embeddings with Vanilla RNNs\n",
    "2. Train a model using GloVE embeddings with LSTMs\n",
    "3. Repeat [1] and [2] with on-the-fly embeddings using torch"
   ]
  },
  {
   "cell_type": "code",
   "execution_count": 1,
   "id": "613d144b",
   "metadata": {},
   "outputs": [
    {
     "name": "stderr",
     "output_type": "stream",
     "text": [
      "c:\\Users\\kshit\\.conda\\envs\\snlp\\lib\\site-packages\\tqdm\\auto.py:21: TqdmWarning: IProgress not found. Please update jupyter and ipywidgets. See https://ipywidgets.readthedocs.io/en/stable/user_install.html\n",
      "  from .autonotebook import tqdm as notebook_tqdm\n"
     ]
    },
    {
     "name": "stdout",
     "output_type": "stream",
     "text": [
      "Warning: Looks like you're using an outdated `kagglehub` version (installed: 0.3.12), please consider upgrading to the latest version (0.3.13).\n",
      "Path to dataset files: C:\\Users\\kshit\\.cache\\kagglehub\\datasets\\lakshmi25npathi\\imdb-dataset-of-50k-movie-reviews\\versions\\1\n"
     ]
    }
   ],
   "source": [
    "import kagglehub\n",
    "\n",
    "# Download latest version\n",
    "path = kagglehub.dataset_download(\"lakshmi25npathi/imdb-dataset-of-50k-movie-reviews\")\n",
    "\n",
    "print(\"Path to dataset files:\", path)"
   ]
  },
  {
   "cell_type": "markdown",
   "id": "ab7f1478",
   "metadata": {},
   "source": [
    "## Approach Overview\n",
    "We will build a movie review sentiment classifier using the IMDB dataset, GloVe embeddings, and RNN-based models. The steps are:\n",
    "1. **Preprocess the IMDB dataset**: Clean and tokenize the text, split into train/test sets.\n",
    "2. **Load GloVe embeddings**: Download and prepare GloVe word vectors for use in our models.\n",
    "3. **Prepare data for PyTorch**: Create datasets and dataloaders for training and evaluation.\n",
    "4. **Model 1: Vanilla RNN with GloVe**: Build and train a simple RNN using pre-trained GloVe embeddings.\n",
    "5. **Model 2: LSTM with GloVe**: Build and train an LSTM using pre-trained GloVe embeddings.\n",
    "6. **Model 3: Vanilla RNN with trainable embeddings**: Use a randomly initialized embedding layer, trained on-the-fly.\n",
    "7. **Model 4: LSTM with trainable embeddings**: Same as above, but with LSTM.\n",
    "8. **Evaluate all models**: Compare accuracy and performance on the test set."
   ]
  },
  {
   "cell_type": "markdown",
   "id": "23389087",
   "metadata": {},
   "source": [
    "## Preprocessing the IMDB Dataset"
   ]
  },
  {
   "cell_type": "code",
   "execution_count": 2,
   "id": "2da69e14",
   "metadata": {},
   "outputs": [
    {
     "name": "stdout",
     "output_type": "stream",
     "text": [
      "Dataset shape: (50000, 2)\n",
      "                                              review sentiment\n",
      "0  One of the other reviewers has mentioned that ...  positive\n",
      "1  A wonderful little production. <br /><br />The...  positive\n",
      "2  I thought this was a wonderful way to spend ti...  positive\n",
      "3  Basically there's a family where a little boy ...  negative\n",
      "4  Petter Mattei's \"Love in the Time of Money\" is...  positive\n"
     ]
    },
    {
     "name": "stderr",
     "output_type": "stream",
     "text": [
      "100%|██████████| 50000/50000 [00:02<00:00, 17735.71it/s]"
     ]
    },
    {
     "name": "stdout",
     "output_type": "stream",
     "text": [
      "Train: (40000, 3) Test: (10000, 3)\n"
     ]
    },
    {
     "name": "stderr",
     "output_type": "stream",
     "text": [
      "\n"
     ]
    }
   ],
   "source": [
    "import os\n",
    "import pandas as pd\n",
    "import numpy as np\n",
    "from sklearn.model_selection import train_test_split\n",
    "import re\n",
    "from tqdm import tqdm\n",
    "tqdm.pandas()\n",
    "\n",
    "# Load IMDB dataset\n",
    "data_path = os.path.join(path, 'IMDB Dataset.csv')\n",
    "df = pd.read_csv(data_path)\n",
    "print('Dataset shape:', df.shape)\n",
    "print(df.head())\n",
    "\n",
    "# Clean text function\n",
    "def clean_text(text):\n",
    "    text = text.lower()\n",
    "    text = re.sub(r'<.*?>', '', text)  # remove HTML tags\n",
    "    text = re.sub(r'[^a-zA-Z0-9\\s]', '', text)  # remove special chars\n",
    "    text = re.sub(r'\\s+', ' ', text).strip()\n",
    "    return text\n",
    "\n",
    "df['review'] = df['review'].progress_apply(clean_text)\n",
    "\n",
    "# Encode sentiment\n",
    "df['label'] = df['sentiment'].map({'positive': 1, 'negative': 0})\n",
    "\n",
    "# Train/test split\n",
    "train_df, test_df = train_test_split(df, test_size=0.2, random_state=42, stratify=df['label'])\n",
    "print('Train:', train_df.shape, 'Test:', test_df.shape)"
   ]
  },
  {
   "cell_type": "markdown",
   "id": "2d2fdfee",
   "metadata": {},
   "source": [
    "## Loading GloVe Embeddings"
   ]
  },
  {
   "cell_type": "code",
   "execution_count": 3,
   "id": "6c2b00ae",
   "metadata": {},
   "outputs": [
    {
     "name": "stdout",
     "output_type": "stream",
     "text": [
      "GloVe embeddings already present.\n",
      "Loaded GloVe embeddings: 400000\n"
     ]
    }
   ],
   "source": [
    "import requests\n",
    "import zipfile\n",
    "\n",
    "# Download GloVe embeddings (100d)\n",
    "glove_dir = './glove.6B'\n",
    "glove_file = os.path.join(glove_dir, 'glove.6B.100d.txt')\n",
    "if not os.path.exists(glove_file):\n",
    "    url = 'http://nlp.stanford.edu/data/glove.6B.zip'\n",
    "    zip_path = 'glove.6B.zip'\n",
    "    print('Downloading GloVe embeddings...')\n",
    "    r = requests.get(url, stream=True)\n",
    "    with open(zip_path, 'wb') as f:\n",
    "        for chunk in r.iter_content(chunk_size=1024):\n",
    "            if chunk:\n",
    "                f.write(chunk)\n",
    "    print('Extracting...')\n",
    "    with zipfile.ZipFile(zip_path, 'r') as zip_ref:\n",
    "        zip_ref.extractall(glove_dir)\n",
    "    os.remove(zip_path)\n",
    "else:\n",
    "    print('GloVe embeddings already present.')\n",
    "\n",
    "# Load GloVe vectors into a dictionary\n",
    "def load_glove_embeddings(glove_path):\n",
    "    embeddings = {}\n",
    "    with open(glove_path, 'r', encoding='utf8') as f:\n",
    "        for line in f:\n",
    "            values = line.strip().split()\n",
    "            word = values[0]\n",
    "            vector = np.asarray(values[1:], dtype='float32')\n",
    "            embeddings[word] = vector\n",
    "    return embeddings\n",
    "\n",
    "glove_embeddings = load_glove_embeddings(glove_file)\n",
    "print('Loaded GloVe embeddings:', len(glove_embeddings))"
   ]
  },
  {
   "cell_type": "markdown",
   "id": "e7caf943",
   "metadata": {},
   "source": [
    "## Creating Vocabulary"
   ]
  },
  {
   "cell_type": "code",
   "execution_count": 4,
   "id": "ce7b0b60",
   "metadata": {},
   "outputs": [
    {
     "name": "stdout",
     "output_type": "stream",
     "text": [
      "Vocabulary size: 20000\n",
      "First 10 tokens: ['<unk>', '<pad>', 'the', 'and', 'a', 'of', 'to', 'is', 'in', 'it']\n"
     ]
    },
    {
     "name": "stderr",
     "output_type": "stream",
     "text": [
      "100%|██████████| 40000/40000 [00:01<00:00, 27366.95it/s]\n",
      "100%|██████████| 40000/40000 [00:01<00:00, 27366.95it/s]\n",
      "100%|██████████| 10000/10000 [00:00<00:00, 27759.84it/s]\n",
      "100%|██████████| 10000/10000 [00:00<00:00, 27759.84it/s]\n"
     ]
    }
   ],
   "source": [
    "import torch\n",
    "from collections import Counter, defaultdict\n",
    "\n",
    "# Tokenize reviews\n",
    "def tokenize(text):\n",
    "    return text.split()\n",
    "\n",
    "# Build vocabulary manually without torchtext\n",
    "def build_vocab(texts, max_tokens=20000, specials=['<unk>', '<pad>']):\n",
    "    # Count all tokens\n",
    "    counter = Counter()\n",
    "    for text in texts:\n",
    "        tokens = tokenize(text)\n",
    "        counter.update(tokens)\n",
    "    \n",
    "    # Get most common tokens\n",
    "    most_common = counter.most_common(max_tokens - len(specials))\n",
    "    \n",
    "    # Build vocab mappings\n",
    "    token_to_idx = {}\n",
    "    idx_to_token = {}\n",
    "    \n",
    "    # Add special tokens first\n",
    "    for i, special in enumerate(specials):\n",
    "        token_to_idx[special] = i\n",
    "        idx_to_token[i] = special\n",
    "    \n",
    "    # Add regular tokens\n",
    "    for i, (token, count) in enumerate(most_common):\n",
    "        idx = i + len(specials)\n",
    "        token_to_idx[token] = idx\n",
    "        idx_to_token[idx] = token\n",
    "    \n",
    "    return token_to_idx, idx_to_token\n",
    "\n",
    "# Build vocabulary from training data\n",
    "vocab_size = 20000\n",
    "specials = ['<unk>', '<pad>']\n",
    "token_to_idx, idx_to_token = build_vocab(train_df['review'], max_tokens=vocab_size, specials=specials)\n",
    "\n",
    "print(f'Vocabulary size: {len(token_to_idx)}')\n",
    "print(f'First 10 tokens: {list(token_to_idx.keys())[:10]}')\n",
    "\n",
    "# Prepare embedding matrix for GloVe\n",
    "embedding_dim = 100\n",
    "embedding_matrix = np.zeros((len(token_to_idx), embedding_dim))\n",
    "\n",
    "for token, idx in token_to_idx.items():\n",
    "    vector = glove_embeddings.get(token)\n",
    "    if vector is not None:\n",
    "        embedding_matrix[idx] = vector\n",
    "    else:\n",
    "        # Random initialization for unknown tokens\n",
    "        embedding_matrix[idx] = np.random.normal(scale=0.6, size=(embedding_dim,))\n",
    "\n",
    "# Numericalize text function\n",
    "def numericalize(text, token_to_idx, unk_token='<unk>'):\n",
    "    tokens = tokenize(text)\n",
    "    return [token_to_idx.get(token, token_to_idx[unk_token]) for token in tokens]\n",
    "\n",
    "# Apply numericalization\n",
    "train_df['input_ids'] = train_df['review'].progress_apply(\n",
    "    lambda x: numericalize(x, token_to_idx)\n",
    ")\n",
    "test_df['input_ids'] = test_df['review'].progress_apply(\n",
    "    lambda x: numericalize(x, token_to_idx)\n",
    ")"
   ]
  },
  {
   "cell_type": "markdown",
   "id": "61316ddc",
   "metadata": {},
   "source": [
    "## Creating Datasets and Dataloaders"
   ]
  },
  {
   "cell_type": "code",
   "execution_count": 5,
   "id": "3586842e",
   "metadata": {},
   "outputs": [],
   "source": [
    "from torch.utils.data import Dataset, DataLoader\n",
    "import torch.nn.utils.rnn as rnn_utils\n",
    "\n",
    "class IMDBDataset(Dataset):\n",
    "    def __init__(self, df, token_to_idx, max_len=200):\n",
    "        self.input_ids = df['input_ids'].tolist()\n",
    "        self.labels = df['label'].tolist()\n",
    "        self.max_len = max_len\n",
    "        self.pad_idx = token_to_idx['<pad>']\n",
    "        \n",
    "    def __len__(self):\n",
    "        return len(self.input_ids)\n",
    "        \n",
    "    def __getitem__(self, idx):\n",
    "        ids = self.input_ids[idx][:self.max_len]\n",
    "        length = len(ids)\n",
    "        if length < self.max_len:\n",
    "            ids = ids + [self.pad_idx] * (self.max_len - length)\n",
    "        return torch.tensor(ids, dtype=torch.long), torch.tensor(self.labels[idx], dtype=torch.float32)\n",
    "\n",
    "max_len = 200\n",
    "batch_size = 128\n",
    "\n",
    "train_dataset = IMDBDataset(train_df, token_to_idx, max_len=max_len)\n",
    "test_dataset = IMDBDataset(test_df, token_to_idx, max_len=max_len)\n",
    "\n",
    "train_loader = DataLoader(train_dataset, batch_size=batch_size, shuffle=True)\n",
    "test_loader = DataLoader(test_dataset, batch_size=batch_size)"
   ]
  },
  {
   "cell_type": "code",
   "execution_count": 6,
   "id": "2a4e9030",
   "metadata": {},
   "outputs": [
    {
     "name": "stderr",
     "output_type": "stream",
     "text": [
      "c:\\Users\\kshit\\.conda\\envs\\snlp\\lib\\site-packages\\torch\\nn\\modules\\rnn.py:123: UserWarning: dropout option adds dropout after all but last recurrent layer, so non-zero dropout expects num_layers greater than 1, but got dropout=0.2 and num_layers=1\n",
      "  warnings.warn(\n"
     ]
    }
   ],
   "source": [
    "import torch.nn as nn\n",
    "\n",
    "class VanillaRNN(nn.Module):\n",
    "    def __init__(self, embedding_matrix, token_to_idx, hidden_dim=128, num_layers=1, num_classes=1, dropout=0.2):\n",
    "        super(VanillaRNN, self).__init__()\n",
    "        num_embeddings, embedding_dim = embedding_matrix.shape\n",
    "        pad_idx = token_to_idx['<pad>']\n",
    "        self.embedding = nn.Embedding.from_pretrained(torch.tensor(embedding_matrix, dtype=torch.float32), freeze=True, padding_idx=pad_idx)\n",
    "        self.rnn = nn.RNN(embedding_dim, hidden_dim, num_layers, batch_first=True, dropout=dropout)\n",
    "        self.fc = nn.Linear(hidden_dim, num_classes)\n",
    "        self.sigmoid = nn.Sigmoid()\n",
    "        \n",
    "    def forward(self, x):\n",
    "        x = self.embedding(x)\n",
    "        out, _ = self.rnn(x)\n",
    "        out = out[:, -1, :]  # last hidden state\n",
    "        out = self.fc(out)\n",
    "        return self.sigmoid(out).squeeze()\n",
    "\n",
    "# Instantiate model\n",
    "device = torch.device('cuda' if torch.cuda.is_available() else 'cpu')\n",
    "rnn_model = VanillaRNN(embedding_matrix, token_to_idx).to(device)"
   ]
  },
  {
   "cell_type": "code",
   "execution_count": 7,
   "id": "fa95bc1b",
   "metadata": {},
   "outputs": [],
   "source": [
    "import torch.optim as optim\n",
    "\n",
    "def train_model(model, train_loader, test_loader, epochs=3, lr=1e-3):\n",
    "    criterion = nn.BCELoss()\n",
    "    optimizer = optim.Adam(model.parameters(), lr=lr)\n",
    "    model.train()\n",
    "    for epoch in range(epochs):\n",
    "        total_loss = 0\n",
    "        for inputs, labels in tqdm(train_loader, desc=f'Epoch {epoch+1}/{epochs}'):\n",
    "            inputs, labels = inputs.to(device), labels.to(device)\n",
    "            optimizer.zero_grad()\n",
    "            outputs = model(inputs)\n",
    "            loss = criterion(outputs, labels)\n",
    "            loss.backward()\n",
    "            optimizer.step()\n",
    "            total_loss += loss.item()\n",
    "        print(f'Epoch {epoch+1}, Loss: {total_loss/len(train_loader):.4f}')\n",
    "    return model\n",
    "\n",
    "def evaluate_model(model, data_loader):\n",
    "    model.eval()\n",
    "    correct, total = 0, 0\n",
    "    with torch.no_grad():\n",
    "        for inputs, labels in data_loader:\n",
    "            inputs, labels = inputs.to(device), labels.to(device)\n",
    "            outputs = model(inputs)\n",
    "            preds = (outputs > 0.5).float()\n",
    "            correct += (preds == labels).sum().item()\n",
    "            total += labels.size(0)\n",
    "    acc = correct / total\n",
    "    print(f'Accuracy: {acc:.4f}')\n",
    "    return acc"
   ]
  },
  {
   "cell_type": "code",
   "execution_count": 8,
   "id": "f2ab70b9",
   "metadata": {},
   "outputs": [],
   "source": [
    "class LSTMModel(nn.Module):\n",
    "    def __init__(self, embedding_matrix, token_to_idx, hidden_dim=128, num_layers=1, num_classes=1, dropout=0.2):\n",
    "        super(LSTMModel, self).__init__()\n",
    "        num_embeddings, embedding_dim = embedding_matrix.shape\n",
    "        pad_idx = token_to_idx['<pad>']\n",
    "        self.embedding = nn.Embedding.from_pretrained(torch.tensor(embedding_matrix, dtype=torch.float32), freeze=True, padding_idx=pad_idx)\n",
    "        self.lstm = nn.LSTM(embedding_dim, hidden_dim, num_layers, batch_first=True, dropout=dropout)\n",
    "        self.fc = nn.Linear(hidden_dim, num_classes)\n",
    "        self.sigmoid = nn.Sigmoid()\n",
    "        \n",
    "    def forward(self, x):\n",
    "        x = self.embedding(x)\n",
    "        out, _ = self.lstm(x)\n",
    "        out = out[:, -1, :]\n",
    "        out = self.fc(out)\n",
    "        return self.sigmoid(out).squeeze()\n",
    "\n",
    "# Instantiate LSTM model\n",
    "lstm_model = LSTMModel(embedding_matrix, token_to_idx).to(device)"
   ]
  },
  {
   "cell_type": "code",
   "execution_count": 9,
   "id": "289951b7",
   "metadata": {},
   "outputs": [],
   "source": [
    "# Vanilla RNN with trainable embeddings\n",
    "class VanillaRNNTrainable(nn.Module):\n",
    "    def __init__(self, vocab_size, token_to_idx, embedding_dim=100, hidden_dim=128, num_layers=1, num_classes=1, dropout=0.2):\n",
    "        super(VanillaRNNTrainable, self).__init__()\n",
    "        pad_idx = token_to_idx['<pad>']\n",
    "        self.embedding = nn.Embedding(vocab_size, embedding_dim, padding_idx=pad_idx)\n",
    "        self.rnn = nn.RNN(embedding_dim, hidden_dim, num_layers, batch_first=True, dropout=dropout)\n",
    "        self.fc = nn.Linear(hidden_dim, num_classes)\n",
    "        self.sigmoid = nn.Sigmoid()\n",
    "        \n",
    "    def forward(self, x):\n",
    "        x = self.embedding(x)\n",
    "        out, _ = self.rnn(x)\n",
    "        out = out[:, -1, :]\n",
    "        out = self.fc(out)\n",
    "        return self.sigmoid(out).squeeze()\n",
    "\n",
    "# LSTM with trainable embeddings\n",
    "class LSTMTrainable(nn.Module):\n",
    "    def __init__(self, vocab_size, token_to_idx, embedding_dim=100, hidden_dim=128, num_layers=1, num_classes=1, dropout=0.2):\n",
    "        super(LSTMTrainable, self).__init__()\n",
    "        pad_idx = token_to_idx['<pad>']\n",
    "        self.embedding = nn.Embedding(vocab_size, embedding_dim, padding_idx=pad_idx)\n",
    "        self.lstm = nn.LSTM(embedding_dim, hidden_dim, num_layers, batch_first=True, dropout=dropout)\n",
    "        self.fc = nn.Linear(hidden_dim, num_classes)\n",
    "        self.sigmoid = nn.Sigmoid()\n",
    "        \n",
    "    def forward(self, x):\n",
    "        x = self.embedding(x)\n",
    "        out, _ = self.lstm(x)\n",
    "        out = out[:, -1, :]\n",
    "        out = self.fc(out)\n",
    "        return self.sigmoid(out).squeeze()\n",
    "\n",
    "# Instantiate trainable models\n",
    "vocab_size = len(token_to_idx)\n",
    "rnn_trainable_model = VanillaRNNTrainable(vocab_size, token_to_idx).to(device)\n",
    "lstm_trainable_model = LSTMTrainable(vocab_size, token_to_idx).to(device)"
   ]
  },
  {
   "cell_type": "code",
   "execution_count": 12,
   "id": "31800f60",
   "metadata": {},
   "outputs": [
    {
     "name": "stdout",
     "output_type": "stream",
     "text": [
      "Training Vanilla RNN (GloVe)...\n"
     ]
    },
    {
     "name": "stderr",
     "output_type": "stream",
     "text": [
      "Epoch 1/10: 100%|██████████| 313/313 [00:02<00:00, 146.30it/s]\n",
      "Epoch 1/10: 100%|██████████| 313/313 [00:02<00:00, 146.30it/s]\n"
     ]
    },
    {
     "name": "stdout",
     "output_type": "stream",
     "text": [
      "Epoch 1, Loss: 0.6848\n"
     ]
    },
    {
     "name": "stderr",
     "output_type": "stream",
     "text": [
      "Epoch 2/10: 100%|██████████| 313/313 [00:02<00:00, 153.20it/s]\n",
      "Epoch 2/10: 100%|██████████| 313/313 [00:02<00:00, 153.20it/s]\n"
     ]
    },
    {
     "name": "stdout",
     "output_type": "stream",
     "text": [
      "Epoch 2, Loss: 0.6862\n"
     ]
    },
    {
     "name": "stderr",
     "output_type": "stream",
     "text": [
      "Epoch 3/10: 100%|██████████| 313/313 [00:01<00:00, 157.70it/s]\n",
      "Epoch 3/10: 100%|██████████| 313/313 [00:01<00:00, 157.70it/s]\n"
     ]
    },
    {
     "name": "stdout",
     "output_type": "stream",
     "text": [
      "Epoch 3, Loss: 0.6903\n"
     ]
    },
    {
     "name": "stderr",
     "output_type": "stream",
     "text": [
      "Epoch 4/10: 100%|██████████| 313/313 [00:02<00:00, 152.27it/s]\n",
      "Epoch 4/10: 100%|██████████| 313/313 [00:02<00:00, 152.27it/s]\n"
     ]
    },
    {
     "name": "stdout",
     "output_type": "stream",
     "text": [
      "Epoch 4, Loss: 0.6888\n"
     ]
    },
    {
     "name": "stderr",
     "output_type": "stream",
     "text": [
      "Epoch 5/10: 100%|██████████| 313/313 [00:01<00:00, 159.88it/s]\n",
      "Epoch 5/10: 100%|██████████| 313/313 [00:01<00:00, 159.88it/s]\n"
     ]
    },
    {
     "name": "stdout",
     "output_type": "stream",
     "text": [
      "Epoch 5, Loss: 0.6884\n"
     ]
    },
    {
     "name": "stderr",
     "output_type": "stream",
     "text": [
      "Epoch 6/10: 100%|██████████| 313/313 [00:02<00:00, 145.12it/s]\n",
      "Epoch 6/10: 100%|██████████| 313/313 [00:02<00:00, 145.12it/s]\n"
     ]
    },
    {
     "name": "stdout",
     "output_type": "stream",
     "text": [
      "Epoch 6, Loss: 0.6865\n"
     ]
    },
    {
     "name": "stderr",
     "output_type": "stream",
     "text": [
      "Epoch 7/10: 100%|██████████| 313/313 [00:01<00:00, 157.68it/s]\n",
      "Epoch 7/10: 100%|██████████| 313/313 [00:01<00:00, 157.68it/s]\n"
     ]
    },
    {
     "name": "stdout",
     "output_type": "stream",
     "text": [
      "Epoch 7, Loss: 0.6853\n"
     ]
    },
    {
     "name": "stderr",
     "output_type": "stream",
     "text": [
      "Epoch 8/10: 100%|██████████| 313/313 [00:01<00:00, 162.24it/s]\n",
      "Epoch 8/10: 100%|██████████| 313/313 [00:01<00:00, 162.24it/s]\n"
     ]
    },
    {
     "name": "stdout",
     "output_type": "stream",
     "text": [
      "Epoch 8, Loss: 0.6858\n"
     ]
    },
    {
     "name": "stderr",
     "output_type": "stream",
     "text": [
      "Epoch 9/10: 100%|██████████| 313/313 [00:01<00:00, 165.11it/s]\n",
      "Epoch 9/10: 100%|██████████| 313/313 [00:01<00:00, 165.11it/s]\n"
     ]
    },
    {
     "name": "stdout",
     "output_type": "stream",
     "text": [
      "Epoch 9, Loss: 0.6847\n"
     ]
    },
    {
     "name": "stderr",
     "output_type": "stream",
     "text": [
      "Epoch 10/10: 100%|██████████| 313/313 [00:01<00:00, 156.79it/s]\n",
      "\n"
     ]
    },
    {
     "name": "stdout",
     "output_type": "stream",
     "text": [
      "Epoch 10, Loss: 0.6869\n",
      "Evaluating Vanilla RNN (GloVe)...\n",
      "Accuracy: 0.5452\n",
      "Accuracy: 0.5452\n"
     ]
    }
   ],
   "source": [
    "# Train and evaluate Vanilla RNN with GloVe embeddings\n",
    "print('Training Vanilla RNN (GloVe)...')\n",
    "rnn_model = train_model(rnn_model, train_loader, test_loader, epochs=10)\n",
    "print('Evaluating Vanilla RNN (GloVe)...')\n",
    "rnn_acc = evaluate_model(rnn_model, test_loader)"
   ]
  },
  {
   "cell_type": "code",
   "execution_count": 13,
   "id": "52615d11",
   "metadata": {},
   "outputs": [
    {
     "name": "stdout",
     "output_type": "stream",
     "text": [
      "Training LSTM (GloVe)...\n"
     ]
    },
    {
     "name": "stderr",
     "output_type": "stream",
     "text": [
      "Epoch 1/10: 100%|██████████| 313/313 [00:03<00:00, 81.88it/s]\n",
      "Epoch 1/10: 100%|██████████| 313/313 [00:03<00:00, 81.88it/s]\n"
     ]
    },
    {
     "name": "stdout",
     "output_type": "stream",
     "text": [
      "Epoch 1, Loss: 0.6731\n"
     ]
    },
    {
     "name": "stderr",
     "output_type": "stream",
     "text": [
      "Epoch 2/10: 100%|██████████| 313/313 [00:03<00:00, 84.41it/s]\n",
      "Epoch 2/10: 100%|██████████| 313/313 [00:03<00:00, 84.41it/s]\n"
     ]
    },
    {
     "name": "stdout",
     "output_type": "stream",
     "text": [
      "Epoch 2, Loss: 0.6576\n"
     ]
    },
    {
     "name": "stderr",
     "output_type": "stream",
     "text": [
      "Epoch 3/10: 100%|██████████| 313/313 [00:03<00:00, 83.83it/s]\n",
      "Epoch 3/10: 100%|██████████| 313/313 [00:03<00:00, 83.83it/s]\n"
     ]
    },
    {
     "name": "stdout",
     "output_type": "stream",
     "text": [
      "Epoch 3, Loss: 0.5326\n"
     ]
    },
    {
     "name": "stderr",
     "output_type": "stream",
     "text": [
      "Epoch 4/10: 100%|██████████| 313/313 [00:03<00:00, 83.20it/s]\n",
      "Epoch 4/10: 100%|██████████| 313/313 [00:03<00:00, 83.20it/s]\n"
     ]
    },
    {
     "name": "stdout",
     "output_type": "stream",
     "text": [
      "Epoch 4, Loss: 0.4342\n"
     ]
    },
    {
     "name": "stderr",
     "output_type": "stream",
     "text": [
      "Epoch 5/10: 100%|██████████| 313/313 [00:03<00:00, 81.35it/s]\n",
      "Epoch 5/10: 100%|██████████| 313/313 [00:03<00:00, 81.35it/s]\n"
     ]
    },
    {
     "name": "stdout",
     "output_type": "stream",
     "text": [
      "Epoch 5, Loss: 0.3853\n"
     ]
    },
    {
     "name": "stderr",
     "output_type": "stream",
     "text": [
      "Epoch 6/10: 100%|██████████| 313/313 [00:03<00:00, 82.62it/s]\n",
      "Epoch 6/10: 100%|██████████| 313/313 [00:03<00:00, 82.62it/s]\n"
     ]
    },
    {
     "name": "stdout",
     "output_type": "stream",
     "text": [
      "Epoch 6, Loss: 0.3594\n"
     ]
    },
    {
     "name": "stderr",
     "output_type": "stream",
     "text": [
      "Epoch 7/10: 100%|██████████| 313/313 [00:03<00:00, 84.74it/s]\n",
      "Epoch 7/10: 100%|██████████| 313/313 [00:03<00:00, 84.74it/s]\n"
     ]
    },
    {
     "name": "stdout",
     "output_type": "stream",
     "text": [
      "Epoch 7, Loss: 0.3415\n"
     ]
    },
    {
     "name": "stderr",
     "output_type": "stream",
     "text": [
      "Epoch 8/10: 100%|██████████| 313/313 [00:03<00:00, 83.01it/s]\n",
      "Epoch 8/10: 100%|██████████| 313/313 [00:03<00:00, 83.01it/s]\n"
     ]
    },
    {
     "name": "stdout",
     "output_type": "stream",
     "text": [
      "Epoch 8, Loss: 0.3256\n"
     ]
    },
    {
     "name": "stderr",
     "output_type": "stream",
     "text": [
      "Epoch 9/10: 100%|██████████| 313/313 [00:03<00:00, 81.09it/s]\n",
      "Epoch 9/10: 100%|██████████| 313/313 [00:03<00:00, 81.09it/s]\n"
     ]
    },
    {
     "name": "stdout",
     "output_type": "stream",
     "text": [
      "Epoch 9, Loss: 0.3132\n"
     ]
    },
    {
     "name": "stderr",
     "output_type": "stream",
     "text": [
      "Epoch 10/10: 100%|██████████| 313/313 [00:03<00:00, 80.60it/s]\n",
      "\n"
     ]
    },
    {
     "name": "stdout",
     "output_type": "stream",
     "text": [
      "Epoch 10, Loss: 0.3010\n",
      "Evaluating LSTM (GloVe)...\n",
      "Accuracy: 0.8579\n",
      "Accuracy: 0.8579\n"
     ]
    }
   ],
   "source": [
    "# Train and evaluate LSTM with GloVe embeddings\n",
    "print('Training LSTM (GloVe)...')\n",
    "lstm_model = train_model(lstm_model, train_loader, test_loader, epochs=10)\n",
    "print('Evaluating LSTM (GloVe)...')\n",
    "lstm_acc = evaluate_model(lstm_model, test_loader)"
   ]
  },
  {
   "cell_type": "code",
   "execution_count": 14,
   "id": "287b8e93",
   "metadata": {},
   "outputs": [
    {
     "name": "stdout",
     "output_type": "stream",
     "text": [
      "Training Vanilla RNN (Trainable Embeddings)...\n"
     ]
    },
    {
     "name": "stderr",
     "output_type": "stream",
     "text": [
      "Epoch 1/10: 100%|██████████| 313/313 [00:02<00:00, 149.08it/s]\n",
      "Epoch 1/10: 100%|██████████| 313/313 [00:02<00:00, 149.08it/s]\n"
     ]
    },
    {
     "name": "stdout",
     "output_type": "stream",
     "text": [
      "Epoch 1, Loss: 0.6962\n"
     ]
    },
    {
     "name": "stderr",
     "output_type": "stream",
     "text": [
      "Epoch 2/10: 100%|██████████| 313/313 [00:02<00:00, 151.32it/s]\n",
      "Epoch 2/10: 100%|██████████| 313/313 [00:02<00:00, 151.32it/s]\n"
     ]
    },
    {
     "name": "stdout",
     "output_type": "stream",
     "text": [
      "Epoch 2, Loss: 0.6924\n"
     ]
    },
    {
     "name": "stderr",
     "output_type": "stream",
     "text": [
      "Epoch 3/10: 100%|██████████| 313/313 [00:02<00:00, 144.04it/s]\n",
      "Epoch 3/10: 100%|██████████| 313/313 [00:02<00:00, 144.04it/s]\n"
     ]
    },
    {
     "name": "stdout",
     "output_type": "stream",
     "text": [
      "Epoch 3, Loss: 0.6897\n"
     ]
    },
    {
     "name": "stderr",
     "output_type": "stream",
     "text": [
      "Epoch 4/10: 100%|██████████| 313/313 [00:02<00:00, 149.06it/s]\n",
      "Epoch 4/10: 100%|██████████| 313/313 [00:02<00:00, 149.06it/s]\n"
     ]
    },
    {
     "name": "stdout",
     "output_type": "stream",
     "text": [
      "Epoch 4, Loss: 0.6853\n"
     ]
    },
    {
     "name": "stderr",
     "output_type": "stream",
     "text": [
      "Epoch 5/10: 100%|██████████| 313/313 [00:02<00:00, 145.05it/s]\n",
      "Epoch 5/10: 100%|██████████| 313/313 [00:02<00:00, 145.05it/s]\n"
     ]
    },
    {
     "name": "stdout",
     "output_type": "stream",
     "text": [
      "Epoch 5, Loss: 0.6767\n"
     ]
    },
    {
     "name": "stderr",
     "output_type": "stream",
     "text": [
      "Epoch 6/10: 100%|██████████| 313/313 [00:02<00:00, 144.97it/s]\n",
      "Epoch 6/10: 100%|██████████| 313/313 [00:02<00:00, 144.97it/s]\n"
     ]
    },
    {
     "name": "stdout",
     "output_type": "stream",
     "text": [
      "Epoch 6, Loss: 0.6639\n"
     ]
    },
    {
     "name": "stderr",
     "output_type": "stream",
     "text": [
      "Epoch 7/10: 100%|██████████| 313/313 [00:02<00:00, 136.05it/s]\n",
      "Epoch 7/10: 100%|██████████| 313/313 [00:02<00:00, 136.05it/s]\n"
     ]
    },
    {
     "name": "stdout",
     "output_type": "stream",
     "text": [
      "Epoch 7, Loss: 0.6423\n"
     ]
    },
    {
     "name": "stderr",
     "output_type": "stream",
     "text": [
      "Epoch 8/10: 100%|██████████| 313/313 [00:02<00:00, 137.25it/s]\n",
      "Epoch 8/10: 100%|██████████| 313/313 [00:02<00:00, 137.25it/s]\n"
     ]
    },
    {
     "name": "stdout",
     "output_type": "stream",
     "text": [
      "Epoch 8, Loss: 0.6371\n"
     ]
    },
    {
     "name": "stderr",
     "output_type": "stream",
     "text": [
      "Epoch 9/10: 100%|██████████| 313/313 [00:02<00:00, 145.00it/s]\n",
      "Epoch 9/10: 100%|██████████| 313/313 [00:02<00:00, 145.00it/s]\n"
     ]
    },
    {
     "name": "stdout",
     "output_type": "stream",
     "text": [
      "Epoch 9, Loss: 0.6170\n"
     ]
    },
    {
     "name": "stderr",
     "output_type": "stream",
     "text": [
      "Epoch 10/10: 100%|██████████| 313/313 [00:02<00:00, 144.30it/s]\n",
      "\n"
     ]
    },
    {
     "name": "stdout",
     "output_type": "stream",
     "text": [
      "Epoch 10, Loss: 0.5881\n",
      "Evaluating Vanilla RNN (Trainable Embeddings)...\n",
      "Accuracy: 0.5318\n",
      "Accuracy: 0.5318\n"
     ]
    }
   ],
   "source": [
    "# Train and evaluate Vanilla RNN with trainable embeddings\n",
    "print('Training Vanilla RNN (Trainable Embeddings)...')\n",
    "rnn_trainable_model = train_model(rnn_trainable_model, train_loader, test_loader, epochs=10)\n",
    "print('Evaluating Vanilla RNN (Trainable Embeddings)...')\n",
    "rnn_trainable_acc = evaluate_model(rnn_trainable_model, test_loader)"
   ]
  },
  {
   "cell_type": "code",
   "execution_count": 15,
   "id": "1c525ec4",
   "metadata": {},
   "outputs": [
    {
     "name": "stdout",
     "output_type": "stream",
     "text": [
      "Training LSTM (Trainable Embeddings)...\n"
     ]
    },
    {
     "name": "stderr",
     "output_type": "stream",
     "text": [
      "Epoch 1/10: 100%|██████████| 313/313 [00:04<00:00, 75.76it/s]\n",
      "Epoch 1/10: 100%|██████████| 313/313 [00:04<00:00, 75.76it/s]\n"
     ]
    },
    {
     "name": "stdout",
     "output_type": "stream",
     "text": [
      "Epoch 1, Loss: 0.6937\n"
     ]
    },
    {
     "name": "stderr",
     "output_type": "stream",
     "text": [
      "Epoch 2/10: 100%|██████████| 313/313 [00:03<00:00, 78.25it/s]\n",
      "Epoch 2/10: 100%|██████████| 313/313 [00:03<00:00, 78.25it/s]\n"
     ]
    },
    {
     "name": "stdout",
     "output_type": "stream",
     "text": [
      "Epoch 2, Loss: 0.6898\n"
     ]
    },
    {
     "name": "stderr",
     "output_type": "stream",
     "text": [
      "Epoch 3/10: 100%|██████████| 313/313 [00:03<00:00, 81.96it/s]\n",
      "Epoch 3/10: 100%|██████████| 313/313 [00:03<00:00, 81.96it/s]\n"
     ]
    },
    {
     "name": "stdout",
     "output_type": "stream",
     "text": [
      "Epoch 3, Loss: 0.6861\n"
     ]
    },
    {
     "name": "stderr",
     "output_type": "stream",
     "text": [
      "Epoch 4/10: 100%|██████████| 313/313 [00:03<00:00, 91.88it/s]\n",
      "Epoch 4/10: 100%|██████████| 313/313 [00:03<00:00, 91.88it/s]\n"
     ]
    },
    {
     "name": "stdout",
     "output_type": "stream",
     "text": [
      "Epoch 4, Loss: 0.6723\n"
     ]
    },
    {
     "name": "stderr",
     "output_type": "stream",
     "text": [
      "Epoch 5/10: 100%|██████████| 313/313 [00:03<00:00, 88.57it/s]\n",
      "Epoch 5/10: 100%|██████████| 313/313 [00:03<00:00, 88.57it/s]\n"
     ]
    },
    {
     "name": "stdout",
     "output_type": "stream",
     "text": [
      "Epoch 5, Loss: 0.6648\n"
     ]
    },
    {
     "name": "stderr",
     "output_type": "stream",
     "text": [
      "Epoch 6/10: 100%|██████████| 313/313 [00:03<00:00, 85.45it/s]\n",
      "Epoch 6/10: 100%|██████████| 313/313 [00:03<00:00, 85.45it/s]\n"
     ]
    },
    {
     "name": "stdout",
     "output_type": "stream",
     "text": [
      "Epoch 6, Loss: 0.6212\n"
     ]
    },
    {
     "name": "stderr",
     "output_type": "stream",
     "text": [
      "Epoch 7/10: 100%|██████████| 313/313 [00:03<00:00, 92.38it/s]\n",
      "Epoch 7/10: 100%|██████████| 313/313 [00:03<00:00, 92.38it/s]\n"
     ]
    },
    {
     "name": "stdout",
     "output_type": "stream",
     "text": [
      "Epoch 7, Loss: 0.6544\n"
     ]
    },
    {
     "name": "stderr",
     "output_type": "stream",
     "text": [
      "Epoch 8/10: 100%|██████████| 313/313 [00:03<00:00, 94.25it/s]\n",
      "Epoch 8/10: 100%|██████████| 313/313 [00:03<00:00, 94.25it/s]\n"
     ]
    },
    {
     "name": "stdout",
     "output_type": "stream",
     "text": [
      "Epoch 8, Loss: 0.5900\n"
     ]
    },
    {
     "name": "stderr",
     "output_type": "stream",
     "text": [
      "Epoch 9/10: 100%|██████████| 313/313 [00:03<00:00, 92.58it/s]\n",
      "Epoch 9/10: 100%|██████████| 313/313 [00:03<00:00, 92.58it/s]\n"
     ]
    },
    {
     "name": "stdout",
     "output_type": "stream",
     "text": [
      "Epoch 9, Loss: 0.5080\n"
     ]
    },
    {
     "name": "stderr",
     "output_type": "stream",
     "text": [
      "Epoch 10/10: 100%|██████████| 313/313 [00:03<00:00, 91.98it/s]\n",
      "\n"
     ]
    },
    {
     "name": "stdout",
     "output_type": "stream",
     "text": [
      "Epoch 10, Loss: 0.5698\n",
      "Evaluating LSTM (Trainable Embeddings)...\n",
      "Accuracy: 0.5341\n",
      "Accuracy: 0.5341\n"
     ]
    }
   ],
   "source": [
    "# Train and evaluate LSTM with trainable embeddings\n",
    "print('Training LSTM (Trainable Embeddings)...')\n",
    "lstm_trainable_model = train_model(lstm_trainable_model, train_loader, test_loader, epochs=10)\n",
    "print('Evaluating LSTM (Trainable Embeddings)...')\n",
    "lstm_trainable_acc = evaluate_model(lstm_trainable_model, test_loader)"
   ]
  },
  {
   "cell_type": "code",
   "execution_count": 16,
   "id": "bd5466ad",
   "metadata": {},
   "outputs": [
    {
     "data": {
      "text/html": [
       "<div>\n",
       "<style scoped>\n",
       "    .dataframe tbody tr th:only-of-type {\n",
       "        vertical-align: middle;\n",
       "    }\n",
       "\n",
       "    .dataframe tbody tr th {\n",
       "        vertical-align: top;\n",
       "    }\n",
       "\n",
       "    .dataframe thead th {\n",
       "        text-align: right;\n",
       "    }\n",
       "</style>\n",
       "<table border=\"1\" class=\"dataframe\">\n",
       "  <thead>\n",
       "    <tr style=\"text-align: right;\">\n",
       "      <th></th>\n",
       "      <th>Model</th>\n",
       "      <th>Accuracy</th>\n",
       "    </tr>\n",
       "  </thead>\n",
       "  <tbody>\n",
       "    <tr>\n",
       "      <th>0</th>\n",
       "      <td>Vanilla RNN (GloVe)</td>\n",
       "      <td>0.5452</td>\n",
       "    </tr>\n",
       "    <tr>\n",
       "      <th>1</th>\n",
       "      <td>LSTM (GloVe)</td>\n",
       "      <td>0.8579</td>\n",
       "    </tr>\n",
       "    <tr>\n",
       "      <th>2</th>\n",
       "      <td>Vanilla RNN (Trainable)</td>\n",
       "      <td>0.5318</td>\n",
       "    </tr>\n",
       "    <tr>\n",
       "      <th>3</th>\n",
       "      <td>LSTM (Trainable)</td>\n",
       "      <td>0.5341</td>\n",
       "    </tr>\n",
       "  </tbody>\n",
       "</table>\n",
       "</div>"
      ],
      "text/plain": [
       "                     Model  Accuracy\n",
       "0      Vanilla RNN (GloVe)    0.5452\n",
       "1             LSTM (GloVe)    0.8579\n",
       "2  Vanilla RNN (Trainable)    0.5318\n",
       "3         LSTM (Trainable)    0.5341"
      ]
     },
     "metadata": {},
     "output_type": "display_data"
    }
   ],
   "source": [
    "# Display all accuracies in a table\n",
    "import pandas as pd\n",
    "results = pd.DataFrame({\n",
    "    'Model': ['Vanilla RNN (GloVe)', 'LSTM (GloVe)', 'Vanilla RNN (Trainable)', 'LSTM (Trainable)'],\n",
    "    'Accuracy': [rnn_acc, lstm_acc, rnn_trainable_acc, lstm_trainable_acc]\n",
    "})\n",
    "display(results)"
   ]
  }
 ],
 "metadata": {
  "kernelspec": {
   "display_name": "snlp",
   "language": "python",
   "name": "python3"
  },
  "language_info": {
   "codemirror_mode": {
    "name": "ipython",
    "version": 3
   },
   "file_extension": ".py",
   "mimetype": "text/x-python",
   "name": "python",
   "nbconvert_exporter": "python",
   "pygments_lexer": "ipython3",
   "version": "3.10.18"
  }
 },
 "nbformat": 4,
 "nbformat_minor": 5
}
