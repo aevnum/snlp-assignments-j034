{
 "cells": [
  {
   "cell_type": "markdown",
   "id": "6f88829d",
   "metadata": {},
   "source": [
    "# Part 1\n",
    "\n",
    "Build a movie review sentiment classifier using GloVe  and RNNs\n",
    "\n",
    "Tasks:\n",
    "1. Train a model using GloVE embeddings with Vanilla RNNs\n",
    "2. Train a model using GloVE embeddings with LSTMs\n",
    "3. Repeat [1] and [2] with on-the-fly embeddings using torch"
   ]
  },
  {
   "cell_type": "code",
   "execution_count": 1,
   "id": "613d144b",
   "metadata": {},
   "outputs": [
    {
     "name": "stderr",
     "output_type": "stream",
     "text": [
      "c:\\Users\\kshit\\AppData\\Local\\Programs\\Python\\Python312\\Lib\\site-packages\\tqdm\\auto.py:21: TqdmWarning: IProgress not found. Please update jupyter and ipywidgets. See https://ipywidgets.readthedocs.io/en/stable/user_install.html\n",
      "  from .autonotebook import tqdm as notebook_tqdm\n"
     ]
    },
    {
     "name": "stdout",
     "output_type": "stream",
     "text": [
      "Warning: Looks like you're using an outdated `kagglehub` version (installed: 0.3.6), please consider upgrading to the latest version (0.3.12).\n",
      "Path to dataset files: C:\\Users\\kshit\\.cache\\kagglehub\\datasets\\lakshmi25npathi\\imdb-dataset-of-50k-movie-reviews\\versions\\1\n"
     ]
    }
   ],
   "source": [
    "import kagglehub\n",
    "\n",
    "# Download latest version\n",
    "path = kagglehub.dataset_download(\"lakshmi25npathi/imdb-dataset-of-50k-movie-reviews\")\n",
    "\n",
    "print(\"Path to dataset files:\", path)"
   ]
  },
  {
   "cell_type": "markdown",
   "id": "ab7f1478",
   "metadata": {},
   "source": [
    "## Approach Overview\n",
    "We will build a movie review sentiment classifier using the IMDB dataset, GloVe embeddings, and RNN-based models. The steps are:\n",
    "1. **Preprocess the IMDB dataset**: Clean and tokenize the text, split into train/test sets.\n",
    "2. **Load GloVe embeddings**: Download and prepare GloVe word vectors for use in our models.\n",
    "3. **Prepare data for PyTorch**: Create datasets and dataloaders for training and evaluation.\n",
    "4. **Model 1: Vanilla RNN with GloVe**: Build and train a simple RNN using pre-trained GloVe embeddings.\n",
    "5. **Model 2: LSTM with GloVe**: Build and train an LSTM using pre-trained GloVe embeddings.\n",
    "6. **Model 3: Vanilla RNN with trainable embeddings**: Use a randomly initialized embedding layer, trained on-the-fly.\n",
    "7. **Model 4: LSTM with trainable embeddings**: Same as above, but with LSTM.\n",
    "8. **Evaluate all models**: Compare accuracy and performance on the test set."
   ]
  },
  {
   "cell_type": "markdown",
   "id": "23389087",
   "metadata": {},
   "source": [
    "## Preprocessing the IMDB Dataset"
   ]
  },
  {
   "cell_type": "code",
   "execution_count": null,
   "id": "2da69e14",
   "metadata": {},
   "outputs": [],
   "source": [
    "import os\n",
    "import pandas as pd\n",
    "import numpy as np\n",
    "from sklearn.model_selection import train_test_split\n",
    "import re\n",
    "from tqdm import tqdm\n",
    "tqdm.pandas()\n",
    "\n",
    "# Load IMDB dataset\n",
    "data_path = os.path.join(path, 'IMDB Dataset.csv')\n",
    "df = pd.read_csv(data_path)\n",
    "print('Dataset shape:', df.shape)\n",
    "print(df.head())\n",
    "\n",
    "# Clean text function\n",
    "def clean_text(text):\n",
    "    text = text.lower()\n",
    "    text = re.sub(r'<.*?>', '', text)  # remove HTML tags\n",
    "    text = re.sub(r'[^a-zA-Z0-9\\s]', '', text)  # remove special chars\n",
    "    text = re.sub(r'\\s+', ' ', text).strip()\n",
    "    return text\n",
    "\n",
    "df['review'] = df['review'].progress_apply(clean_text)\n",
    "\n",
    "# Encode sentiment\n",
    "df['label'] = df['sentiment'].map({'positive': 1, 'negative': 0})\n",
    "\n",
    "# Train/test split\n",
    "train_df, test_df = train_test_split(df, test_size=0.2, random_state=42, stratify=df['label'])\n",
    "print('Train:', train_df.shape, 'Test:', test_df.shape)"
   ]
  },
  {
   "cell_type": "markdown",
   "id": "2d2fdfee",
   "metadata": {},
   "source": [
    "## Loading GloVe Embeddings"
   ]
  },
  {
   "cell_type": "code",
   "execution_count": null,
   "id": "6c2b00ae",
   "metadata": {},
   "outputs": [],
   "source": [
    "import requests\n",
    "import zipfile\n",
    "\n",
    "# Download GloVe embeddings (100d)\n",
    "glove_dir = './glove.6B'\n",
    "glove_file = os.path.join(glove_dir, 'glove.6B.100d.txt')\n",
    "if not os.path.exists(glove_file):\n",
    "    url = 'http://nlp.stanford.edu/data/glove.6B.zip'\n",
    "    zip_path = 'glove.6B.zip'\n",
    "    print('Downloading GloVe embeddings...')\n",
    "    r = requests.get(url, stream=True)\n",
    "    with open(zip_path, 'wb') as f:\n",
    "        for chunk in r.iter_content(chunk_size=1024):\n",
    "            if chunk:\n",
    "                f.write(chunk)\n",
    "    print('Extracting...')\n",
    "    with zipfile.ZipFile(zip_path, 'r') as zip_ref:\n",
    "        zip_ref.extractall(glove_dir)\n",
    "    os.remove(zip_path)\n",
    "else:\n",
    "    print('GloVe embeddings already present.')\n",
    "\n",
    "# Load GloVe vectors into a dictionary\n",
    "def load_glove_embeddings(glove_path):\n",
    "    embeddings = {}\n",
    "    with open(glove_path, 'r', encoding='utf8') as f:\n",
    "        for line in f:\n",
    "            values = line.strip().split()\n",
    "            word = values[0]\n",
    "            vector = np.asarray(values[1:], dtype='float32')\n",
    "            embeddings[word] = vector\n",
    "    return embeddings\n",
    "\n",
    "glove_embeddings = load_glove_embeddings(glove_file)\n",
    "print('Loaded GloVe embeddings:', len(glove_embeddings))"
   ]
  },
  {
   "cell_type": "markdown",
   "id": "e7caf943",
   "metadata": {},
   "source": [
    "## Creating Vocabulary"
   ]
  },
  {
   "cell_type": "code",
   "execution_count": null,
   "id": "a3b703dc",
   "metadata": {},
   "outputs": [],
   "source": [
    "from torchtext.vocab import Vocab\n",
    "from collections import Counter\n",
    "import torch\n",
    "\n",
    "# Tokenize reviews\n",
    "def tokenize(text):\n",
    "    return text.split()\n",
    "\n",
    "# Build vocabulary from training data\n",
    "counter = Counter()\n",
    "for review in train_df['review']:\n",
    "    counter.update(tokenize(review))\n",
    "\n",
    "vocab_size = 20000  # Limit vocab size for efficiency\n",
    "vocab = Vocab(counter, max_size=vocab_size, specials=['<unk>', '<pad>'])\n",
    "\n",
    "# Prepare embedding matrix for GloVe\n",
    "embedding_dim = 100\n",
    "embedding_matrix = np.zeros((len(vocab), embedding_dim))\n",
    "for i, token in enumerate(vocab.get_itos()):\n",
    "    vector = glove_embeddings.get(token)\n",
    "    if vector is not None:\n",
    "        embedding_matrix[i] = vector\n",
    "    else:\n",
    "        embedding_matrix[i] = np.random.normal(scale=0.6, size=(embedding_dim,))\n",
    "\n",
    "# Numericalize text\n",
    "def numericalize(text):\n",
    "    return [vocab[token] for token in tokenize(text)]\n",
    "\n",
    "train_df['input_ids'] = train_df['review'].progress_apply(numericalize)\n",
    "test_df['input_ids'] = test_df['review'].progress_apply(numericalize)"
   ]
  },
  {
   "cell_type": "markdown",
   "id": "61316ddc",
   "metadata": {},
   "source": [
    "## Creating Datasets and Dataloaders"
   ]
  },
  {
   "cell_type": "code",
   "execution_count": null,
   "id": "3586842e",
   "metadata": {},
   "outputs": [],
   "source": [
    "from torch.utils.data import Dataset, DataLoader\n",
    "import torch.nn.utils.rnn as rnn_utils\n",
    "\n",
    "class IMDBDataset(Dataset):\n",
    "    def __init__(self, df, max_len=200):\n",
    "        self.input_ids = df['input_ids'].tolist()\n",
    "        self.labels = df['label'].tolist()\n",
    "        self.max_len = max_len\n",
    "    def __len__(self):\n",
    "        return len(self.input_ids)\n",
    "    def __getitem__(self, idx):\n",
    "        ids = self.input_ids[idx][:self.max_len]\n",
    "        length = len(ids)\n",
    "        if length < self.max_len:\n",
    "            ids = ids + [vocab['<pad>']] * (self.max_len - length)\n",
    "        return torch.tensor(ids, dtype=torch.long), torch.tensor(self.labels[idx], dtype=torch.float32)\n",
    "\n",
    "max_len = 200\n",
    "batch_size = 128\n",
    "\n",
    "train_dataset = IMDBDataset(train_df, max_len=max_len)\n",
    "test_dataset = IMDBDataset(test_df, max_len=max_len)\n",
    "\n",
    "train_loader = DataLoader(train_dataset, batch_size=batch_size, shuffle=True)\n",
    "test_loader = DataLoader(test_dataset, batch_size=batch_size)"
   ]
  },
  {
   "cell_type": "code",
   "execution_count": null,
   "id": "2a4e9030",
   "metadata": {},
   "outputs": [],
   "source": [
    "import torch.nn as nn\n",
    "\n",
    "class VanillaRNN(nn.Module):\n",
    "    def __init__(self, embedding_matrix, hidden_dim=128, num_layers=1, num_classes=1, dropout=0.2):\n",
    "        super(VanillaRNN, self).__init__()\n",
    "        num_embeddings, embedding_dim = embedding_matrix.shape\n",
    "        self.embedding = nn.Embedding.from_pretrained(torch.tensor(embedding_matrix, dtype=torch.float32), freeze=True, padding_idx=vocab['<pad>'])\n",
    "        self.rnn = nn.RNN(embedding_dim, hidden_dim, num_layers, batch_first=True, dropout=dropout)\n",
    "        self.fc = nn.Linear(hidden_dim, num_classes)\n",
    "        self.sigmoid = nn.Sigmoid()\n",
    "    def forward(self, x):\n",
    "        x = self.embedding(x)\n",
    "        out, _ = self.rnn(x)\n",
    "        out = out[:, -1, :]  # last hidden state\n",
    "        out = self.fc(out)\n",
    "        return self.sigmoid(out).squeeze()\n",
    "\n",
    "# Instantiate model\n",
    "device = torch.device('cuda' if torch.cuda.is_available() else 'cpu')\n",
    "rnn_model = VanillaRNN(embedding_matrix).to(device)"
   ]
  },
  {
   "cell_type": "code",
   "execution_count": null,
   "id": "fa95bc1b",
   "metadata": {},
   "outputs": [],
   "source": [
    "import torch.optim as optim\n",
    "\n",
    "def train_model(model, train_loader, test_loader, epochs=3, lr=1e-3):\n",
    "    criterion = nn.BCELoss()\n",
    "    optimizer = optim.Adam(model.parameters(), lr=lr)\n",
    "    model.train()\n",
    "    for epoch in range(epochs):\n",
    "        total_loss = 0\n",
    "        for inputs, labels in tqdm(train_loader, desc=f'Epoch {epoch+1}/{epochs}'):\n",
    "            inputs, labels = inputs.to(device), labels.to(device)\n",
    "            optimizer.zero_grad()\n",
    "            outputs = model(inputs)\n",
    "            loss = criterion(outputs, labels)\n",
    "            loss.backward()\n",
    "            optimizer.step()\n",
    "            total_loss += loss.item()\n",
    "        print(f'Epoch {epoch+1}, Loss: {total_loss/len(train_loader):.4f}')\n",
    "    return model\n",
    "\n",
    "def evaluate_model(model, data_loader):\n",
    "    model.eval()\n",
    "    correct, total = 0, 0\n",
    "    with torch.no_grad():\n",
    "        for inputs, labels in data_loader:\n",
    "            inputs, labels = inputs.to(device), labels.to(device)\n",
    "            outputs = model(inputs)\n",
    "            preds = (outputs > 0.5).float()\n",
    "            correct += (preds == labels).sum().item()\n",
    "            total += labels.size(0)\n",
    "    acc = correct / total\n",
    "    print(f'Accuracy: {acc:.4f}')\n",
    "    return acc"
   ]
  },
  {
   "cell_type": "code",
   "execution_count": null,
   "id": "f2ab70b9",
   "metadata": {},
   "outputs": [],
   "source": [
    "class LSTMModel(nn.Module):\n",
    "    def __init__(self, embedding_matrix, hidden_dim=128, num_layers=1, num_classes=1, dropout=0.2):\n",
    "        super(LSTMModel, self).__init__()\n",
    "        num_embeddings, embedding_dim = embedding_matrix.shape\n",
    "        self.embedding = nn.Embedding.from_pretrained(torch.tensor(embedding_matrix, dtype=torch.float32), freeze=True, padding_idx=vocab['<pad>'])\n",
    "        self.lstm = nn.LSTM(embedding_dim, hidden_dim, num_layers, batch_first=True, dropout=dropout)\n",
    "        self.fc = nn.Linear(hidden_dim, num_classes)\n",
    "        self.sigmoid = nn.Sigmoid()\n",
    "    def forward(self, x):\n",
    "        x = self.embedding(x)\n",
    "        out, _ = self.lstm(x)\n",
    "        out = out[:, -1, :]\n",
    "        out = self.fc(out)\n",
    "        return self.sigmoid(out).squeeze()\n",
    "\n",
    "# Instantiate and train LSTM model\n",
    "lstm_model = LSTMModel(embedding_matrix).to(device)"
   ]
  },
  {
   "cell_type": "code",
   "execution_count": null,
   "id": "289951b7",
   "metadata": {},
   "outputs": [],
   "source": [
    "# Vanilla RNN with trainable embeddings\n",
    "class VanillaRNNTrainable(nn.Module):\n",
    "    def __init__(self, vocab_size, embedding_dim=100, hidden_dim=128, num_layers=1, num_classes=1, dropout=0.2):\n",
    "        super(VanillaRNNTrainable, self).__init__()\n",
    "        self.embedding = nn.Embedding(vocab_size, embedding_dim, padding_idx=vocab['<pad>'])\n",
    "        self.rnn = nn.RNN(embedding_dim, hidden_dim, num_layers, batch_first=True, dropout=dropout)\n",
    "        self.fc = nn.Linear(hidden_dim, num_classes)\n",
    "        self.sigmoid = nn.Sigmoid()\n",
    "    def forward(self, x):\n",
    "        x = self.embedding(x)\n",
    "        out, _ = self.rnn(x)\n",
    "        out = out[:, -1, :]\n",
    "        out = self.fc(out)\n",
    "        return self.sigmoid(out).squeeze()\n",
    "\n",
    "# LSTM with trainable embeddings\n",
    "class LSTMTrainable(nn.Module):\n",
    "    def __init__(self, vocab_size, embedding_dim=100, hidden_dim=128, num_layers=1, num_classes=1, dropout=0.2):\n",
    "        super(LSTMTrainable, self).__init__()\n",
    "        self.embedding = nn.Embedding(vocab_size, embedding_dim, padding_idx=vocab['<pad>'])\n",
    "        self.lstm = nn.LSTM(embedding_dim, hidden_dim, num_layers, batch_first=True, dropout=dropout)\n",
    "        self.fc = nn.Linear(hidden_dim, num_classes)\n",
    "        self.sigmoid = nn.Sigmoid()\n",
    "    def forward(self, x):\n",
    "        x = self.embedding(x)\n",
    "        out, _ = self.lstm(x)\n",
    "        out = out[:, -1, :]\n",
    "        out = self.fc(out)\n",
    "        return self.sigmoid(out).squeeze()"
   ]
  }
 ],
 "metadata": {
  "kernelspec": {
   "display_name": "Python 3",
   "language": "python",
   "name": "python3"
  },
  "language_info": {
   "codemirror_mode": {
    "name": "ipython",
    "version": 3
   },
   "file_extension": ".py",
   "mimetype": "text/x-python",
   "name": "python",
   "nbconvert_exporter": "python",
   "pygments_lexer": "ipython3",
   "version": "3.12.1"
  }
 },
 "nbformat": 4,
 "nbformat_minor": 5
}
